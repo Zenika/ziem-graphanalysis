{
 "cells": [
  {
   "cell_type": "markdown",
   "metadata": {},
   "source": [
    "# Connection to our Neo4j server"
   ]
  },
  {
   "cell_type": "code",
   "execution_count": 2,
   "metadata": {},
   "outputs": [
    {
     "name": "stdout",
     "output_type": "stream",
     "text": [
      "4.3.6\n"
     ]
    }
   ],
   "source": [
    "from neo4j import __version__ as neo4j_version\n",
    "print(neo4j_version)"
   ]
  },
  {
   "cell_type": "code",
   "execution_count": 3,
   "metadata": {},
   "outputs": [],
   "source": [
    "from neo4j import GraphDatabase\n",
    "class Neo4jConnection:\n",
    "    \n",
    "    def __init__(self, uri, user, pwd):\n",
    "        self.__uri = uri\n",
    "        self.__user = user\n",
    "        self.__pwd = pwd\n",
    "        self.__driver = None\n",
    "        try:\n",
    "            self.__driver = GraphDatabase.driver(self.__uri, auth=(self.__user, self.__pwd))\n",
    "        except Exception as e:\n",
    "            print(\"Failed to create the driver:\", e)\n",
    "        \n",
    "    def close(self):\n",
    "        if self.__driver is not None:\n",
    "            self.__driver.close()\n",
    "        \n",
    "    def query(self, query, db=None):\n",
    "        assert self.__driver is not None, \"Driver not initialized!\"\n",
    "        session = None\n",
    "        response = None\n",
    "        try: \n",
    "            session = self.__driver.session(database=db) if db is not None else self.__driver.session() \n",
    "            response = list(session.run(query))\n",
    "        except Exception as e:\n",
    "            print(\"Query failed:\", e)\n",
    "        finally: \n",
    "            if session is not None:\n",
    "                session.close()\n",
    "        return response"
   ]
  },
  {
   "cell_type": "code",
   "execution_count": 4,
   "metadata": {},
   "outputs": [],
   "source": [
    "conn = Neo4jConnection(uri=\"bolt://localhost:7687\", user=\"neo4j\", pwd=\"s3cr3t\")"
   ]
  },
  {
   "cell_type": "code",
   "execution_count": 4,
   "metadata": {},
   "outputs": [
    {
     "data": {
      "text/plain": [
       "[<Record n=<Node id=0 labels=frozenset({'Host'}) properties={'ip': '192.168.34.101'}>>,\n",
       " <Record n=<Node id=1 labels=frozenset({'Host'}) properties={'ip': '142.250.13.95'}>>,\n",
       " <Record n=<Node id=2 labels=frozenset({'Host'}) properties={'ip': '192.168.34.100'}>>,\n",
       " <Record n=<Node id=3 labels=frozenset({'Host'}) properties={'ip': '74.125.133.95'}>>,\n",
       " <Record n=<Node id=4 labels=frozenset({'Host'}) properties={'ip': '192.168.34.99'}>>,\n",
       " <Record n=<Node id=5 labels=frozenset({'Host'}) properties={'ip': '64.233.184.95'}>>]"
      ]
     },
     "execution_count": 4,
     "metadata": {},
     "output_type": "execute_result"
    }
   ],
   "source": [
    "query_string = '''\n",
    "MATCH (n) RETURN n;\n",
    "'''\n",
    "\n",
    "conn.query(query_string)"
   ]
  },
  {
   "cell_type": "markdown",
   "metadata": {},
   "source": [
    "Label nodes with internal and external"
   ]
  },
  {
   "cell_type": "code",
   "execution_count": 48,
   "metadata": {},
   "outputs": [
    {
     "data": {
      "text/plain": [
       "[]"
      ]
     },
     "execution_count": 48,
     "metadata": {},
     "output_type": "execute_result"
    }
   ],
   "source": [
    "query_string ='''\n",
    "MATCH (n:Host)\n",
    "WITH n,\n",
    "CASE \n",
    "WHEN n.ip STARTS WITH \"192.168.34.\" THEN 'Internal'\n",
    "ELSE 'External'\n",
    "END AS type_connection\n",
    "SET n.type_connection = type_connection\n",
    "'''\n",
    "\n",
    "conn.query(query_string)"
   ]
  },
  {
   "cell_type": "markdown",
   "metadata": {},
   "source": [
    "Automate this query"
   ]
  },
  {
   "cell_type": "code",
   "execution_count": 51,
   "metadata": {},
   "outputs": [
    {
     "data": {
      "text/plain": [
       "'\\n CALL apoc.periodic.repeat(\\'update labels color\\',\"MATCH (n:Host) WITH n, CASE WHEN n.ip STARTS WITH \\'192.168.34.\\' THEN \\'Internal\\' ELSE \\'External\\' END AS type_connection SET n.type_connection = type_connection\", 10)\\n'"
      ]
     },
     "execution_count": 51,
     "metadata": {},
     "output_type": "execute_result"
    }
   ],
   "source": [
    "test ='''\n",
    " CALL apoc.periodic.repeat('update labels color',\"MATCH (n:Host) WITH n, CASE WHEN n.ip STARTS WITH '192.168.34.' THEN 'Internal' ELSE 'External' END AS type_connection SET n.type_connection = type_connection\", 10)\n",
    "'''\n",
    "test"
   ]
  },
  {
   "cell_type": "code",
   "execution_count": 52,
   "metadata": {},
   "outputs": [
    {
     "name": "stdout",
     "output_type": "stream",
     "text": [
      "Query failed: {code: Neo.ClientError.Procedure.ProcedureNotFound} {message: There is no procedure with the name `apoc.periodic.repeat` registered for this database instance. Please ensure you've spelled the procedure name correctly and that the procedure is properly deployed.}\n"
     ]
    }
   ],
   "source": [
    "conn.query(test)"
   ]
  },
  {
   "cell_type": "markdown",
   "metadata": {},
   "source": [
    "Label edges to distinguish the connection that are directed outside the internal network and outside the network"
   ]
  },
  {
   "cell_type": "code",
   "execution_count": 7,
   "metadata": {},
   "outputs": [
    {
     "data": {
      "text/plain": [
       "[]"
      ]
     },
     "execution_count": 7,
     "metadata": {},
     "output_type": "execute_result"
    }
   ],
   "source": [
    "query_string ='''\n",
    "MATCH ()-[r:TO]->(n:Host)\n",
    "WITH n,r,\n",
    "CASE \n",
    "WHEN n.type_connection='Internal' THEN 'Internal'\n",
    "ELSE 'External'\n",
    "END AS type_connection  \n",
    "SET r.type_connection = type_connection\n",
    "'''\n",
    "\n",
    "conn.query(query_string)"
   ]
  },
  {
   "cell_type": "markdown",
   "metadata": {},
   "source": [
    "Automate this query"
   ]
  },
  {
   "cell_type": "code",
   "execution_count": 53,
   "metadata": {},
   "outputs": [
    {
     "name": "stdout",
     "output_type": "stream",
     "text": [
      "Query failed: {code: Neo.ClientError.Procedure.ProcedureNotFound} {message: There is no procedure with the name `apoc.periodic.repeat` registered for this database instance. Please ensure you've spelled the procedure name correctly and that the procedure is properly deployed.}\n"
     ]
    }
   ],
   "source": [
    "query ='''\n",
    " CALL apoc.periodic.repeat('update labels color',\"MATCH ()-[r:TO]->(n:Host)\n",
    "WITH n,r,\n",
    "CASE \n",
    "WHEN n.type_connection='Internal' THEN 'Internal'\n",
    "ELSE 'External'\n",
    "END AS type_connection  \n",
    "SET r.type_connection = type_connection\", 10)\n",
    "'''\n",
    "conn.query(query)"
   ]
  },
  {
   "cell_type": "code",
   "execution_count": 33,
   "metadata": {},
   "outputs": [
    {
     "data": {
      "text/plain": [
       "[<Record connectionId='bolt-1145' connectTime='2022-06-10T14:35:31.381Z' connector='bolt' username='neo4j' userAgent='neo4j-browser/v4.4.5' serverAddress='172.18.0.3:7687' clientAddress='35.235.243.226:33161'>,\n",
       " <Record connectionId='bolt-1144' connectTime='2022-06-10T14:35:31.161Z' connector='bolt' username='neo4j' userAgent='neo4j-browser/v4.4.5' serverAddress='172.18.0.3:7687' clientAddress='35.235.243.224:39291'>,\n",
       " <Record connectionId='bolt-1076' connectTime='2022-06-10T14:28:05.534Z' connector='bolt' username='neo4j' userAgent='neo4j-kafka-connect-SINK/2.0.2' serverAddress='172.18.0.3:7687' clientAddress='172.18.0.4:43264'>,\n",
       " <Record connectionId='bolt-1048' connectTime='2022-06-10T14:25:02.48Z' connector='bolt' username='neo4j' userAgent='neo4j-python/4.3.6 Python/3.8.10-final-0 (linux)' serverAddress='172.18.0.3:7687' clientAddress='35.235.243.226:42003'>,\n",
       " <Record connectionId='bolt-839' connectTime='2022-06-10T14:19:39.618Z' connector='bolt' username='neo4j' userAgent='neo4j-python/4.4.4 Python/3.8.10-final-0 (linux)' serverAddress='172.18.0.3:7687' clientAddress='35.235.243.226:47715'>]"
      ]
     },
     "execution_count": 33,
     "metadata": {},
     "output_type": "execute_result"
    }
   ],
   "source": [
    "query_string ='''\n",
    "CALL dbms.listConnections() \n",
    "'''\n",
    "\n",
    "conn.query(query_string)"
   ]
  },
  {
   "cell_type": "code",
   "execution_count": 32,
   "metadata": {},
   "outputs": [
    {
     "data": {
      "text/plain": [
       "[<Record NULL=None>, <Record NULL=None>, <Record NULL=None>]"
      ]
     },
     "execution_count": 32,
     "metadata": {},
     "output_type": "execute_result"
    }
   ],
   "source": [
    "query_string ='''\n",
    "CALL dbms.listConnections() yield connectionId,userAgent\n",
    "\n",
    "WHERE NOT userAgent IN ['neo4j-kafka-connect-SINK/2.0.2','neo4j-python/4.4.4 Python/3.8.10-final-0 (linux)','neo4j-python/4.3.6 Python/3.8.10-final-0 (linux)']\n",
    "WITH collect(connectionId) as id,userAgent\n",
    "\n",
    "CALL dbms.killConnections(id) yield connectionId\n",
    "RETURN NULL\n",
    "'''\n",
    "\n",
    "conn.query(query_string)"
   ]
  }
 ],
 "metadata": {
  "interpreter": {
   "hash": "a6dde894995ba60913d428aa0ad528de631e79a7fa178cecbf5b4eb4961f4a26"
  },
  "kernelspec": {
   "display_name": "Python 3.8.10 ('venv': venv)",
   "language": "python",
   "name": "python3"
  },
  "language_info": {
   "codemirror_mode": {
    "name": "ipython",
    "version": 3
   },
   "file_extension": ".py",
   "mimetype": "text/x-python",
   "name": "python",
   "nbconvert_exporter": "python",
   "pygments_lexer": "ipython3",
   "version": "3.8.10"
  },
  "orig_nbformat": 4
 },
 "nbformat": 4,
 "nbformat_minor": 2
}
